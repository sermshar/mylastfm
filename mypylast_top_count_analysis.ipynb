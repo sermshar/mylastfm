{
 "cells": [
  {
   "cell_type": "markdown",
   "metadata": {},
   "source": [
    "## Shared Imports"
   ]
  },
  {
   "cell_type": "code",
   "execution_count": 128,
   "metadata": {},
   "outputs": [],
   "source": [
    "from dataHandler.importer import updateDB\n",
    "from config import NETWORK, USERNAME, DBFILE\n",
    "\n",
    "import ipywidgets as widgets\n",
    "\n",
    "import matplotlib.pyplot as plt"
   ]
  },
  {
   "cell_type": "markdown",
   "metadata": {},
   "source": [
    "## Temporary Section"
   ]
  },
  {
   "cell_type": "code",
   "execution_count": 129,
   "metadata": {},
   "outputs": [],
   "source": [
    "import pandas as pd\n",
    "from dataHandler.models import Base, Scrobble\n",
    "import datetime as dt"
   ]
  },
  {
   "cell_type": "markdown",
   "metadata": {},
   "source": [
    "__create db session__"
   ]
  },
  {
   "cell_type": "code",
   "execution_count": 130,
   "metadata": {},
   "outputs": [],
   "source": [
    "# this section should be made into a decorator\n",
    "from sqlalchemy import create_engine\n",
    "from sqlalchemy.orm import sessionmaker\n",
    "engine = create_engine(('sqlite:///' + DBFILE), echo=False)\n",
    "Base.metadata.create_all(engine)\n",
    "Session = sessionmaker(bind=engine)\n",
    "session = Session()"
   ]
  },
  {
   "cell_type": "markdown",
   "metadata": {},
   "source": [
    "__sql db to pandas df__ "
   ]
  },
  {
   "cell_type": "code",
   "execution_count": 131,
   "metadata": {},
   "outputs": [],
   "source": [
    "query = 'SELECT C.id, C.timestamp, C.track, C.album, C.artist, (SELECT COUNT(O.track) + 1 FROM [scrobbles] O WHERE O.track = C.track and O.artist = C.artist and O.timestamp < C.timestamp) as trackCount FROM scrobbles C ORDER BY C.timestamp'"
   ]
  },
  {
   "cell_type": "code",
   "execution_count": 132,
   "metadata": {},
   "outputs": [],
   "source": [
    "# query = session.query(Scrobble)\n",
    "records_df = pd.read_sql(query, session.bind)"
   ]
  },
  {
   "cell_type": "code",
   "execution_count": 134,
   "metadata": {},
   "outputs": [
    {
     "data": {
      "text/html": [
       "<div>\n",
       "<style scoped>\n",
       "    .dataframe tbody tr th:only-of-type {\n",
       "        vertical-align: middle;\n",
       "    }\n",
       "\n",
       "    .dataframe tbody tr th {\n",
       "        vertical-align: top;\n",
       "    }\n",
       "\n",
       "    .dataframe thead th {\n",
       "        text-align: right;\n",
       "    }\n",
       "</style>\n",
       "<table border=\"1\" class=\"dataframe\">\n",
       "  <thead>\n",
       "    <tr style=\"text-align: right;\">\n",
       "      <th></th>\n",
       "      <th>id</th>\n",
       "      <th>timestamp</th>\n",
       "      <th>track</th>\n",
       "      <th>album</th>\n",
       "      <th>artist</th>\n",
       "      <th>trackCount</th>\n",
       "    </tr>\n",
       "  </thead>\n",
       "  <tbody>\n",
       "    <tr>\n",
       "      <th>1482</th>\n",
       "      <td>11084</td>\n",
       "      <td>1493595075</td>\n",
       "      <td>Say Something</td>\n",
       "      <td>Covers Part III</td>\n",
       "      <td>Anthem Lights</td>\n",
       "      <td>1</td>\n",
       "    </tr>\n",
       "    <tr>\n",
       "      <th>1950</th>\n",
       "      <td>10616</td>\n",
       "      <td>1496028684</td>\n",
       "      <td>Say Something</td>\n",
       "      <td>As Seen On TV</td>\n",
       "      <td>Alex &amp; Sierra</td>\n",
       "      <td>1</td>\n",
       "    </tr>\n",
       "    <tr>\n",
       "      <th>2790</th>\n",
       "      <td>9776</td>\n",
       "      <td>1500937694</td>\n",
       "      <td>Say Something</td>\n",
       "      <td>Is There Anybody Out There?</td>\n",
       "      <td>A Great Big World</td>\n",
       "      <td>1</td>\n",
       "    </tr>\n",
       "    <tr>\n",
       "      <th>2798</th>\n",
       "      <td>9768</td>\n",
       "      <td>1501017272</td>\n",
       "      <td>Say Something</td>\n",
       "      <td>Is There Anybody Out There?</td>\n",
       "      <td>A Great Big World</td>\n",
       "      <td>2</td>\n",
       "    </tr>\n",
       "    <tr>\n",
       "      <th>7590</th>\n",
       "      <td>4976</td>\n",
       "      <td>1525400805</td>\n",
       "      <td>Say Something</td>\n",
       "      <td>As Seen On TV</td>\n",
       "      <td>Alex &amp; Sierra</td>\n",
       "      <td>2</td>\n",
       "    </tr>\n",
       "    <tr>\n",
       "      <th>15866</th>\n",
       "      <td>15724</td>\n",
       "      <td>1553826968</td>\n",
       "      <td>Say Something</td>\n",
       "      <td>Is There Anybody Out There?</td>\n",
       "      <td>A Great Big World</td>\n",
       "      <td>3</td>\n",
       "    </tr>\n",
       "  </tbody>\n",
       "</table>\n",
       "</div>"
      ],
      "text/plain": [
       "          id   timestamp          track                        album  \\\n",
       "1482   11084  1493595075  Say Something              Covers Part III   \n",
       "1950   10616  1496028684  Say Something                As Seen On TV   \n",
       "2790    9776  1500937694  Say Something  Is There Anybody Out There?   \n",
       "2798    9768  1501017272  Say Something  Is There Anybody Out There?   \n",
       "7590    4976  1525400805  Say Something                As Seen On TV   \n",
       "15866  15724  1553826968  Say Something  Is There Anybody Out There?   \n",
       "\n",
       "                  artist  trackCount  \n",
       "1482       Anthem Lights           1  \n",
       "1950       Alex & Sierra           1  \n",
       "2790   A Great Big World           1  \n",
       "2798   A Great Big World           2  \n",
       "7590       Alex & Sierra           2  \n",
       "15866  A Great Big World           3  "
      ]
     },
     "execution_count": 134,
     "metadata": {},
     "output_type": "execute_result"
    }
   ],
   "source": [
    "records_df.loc[records_df['track'] == 'Say Something']"
   ]
  },
  {
   "cell_type": "code",
   "execution_count": 135,
   "metadata": {},
   "outputs": [],
   "source": [
    "session.close()"
   ]
  },
  {
   "cell_type": "code",
   "execution_count": null,
   "metadata": {},
   "outputs": [],
   "source": []
  }
 ],
 "metadata": {
  "kernelspec": {
   "display_name": "Python 3",
   "language": "python",
   "name": "python3"
  },
  "language_info": {
   "codemirror_mode": {
    "name": "ipython",
    "version": 3
   },
   "file_extension": ".py",
   "mimetype": "text/x-python",
   "name": "python",
   "nbconvert_exporter": "python",
   "pygments_lexer": "ipython3",
   "version": "3.7.0"
  }
 },
 "nbformat": 4,
 "nbformat_minor": 2
}
